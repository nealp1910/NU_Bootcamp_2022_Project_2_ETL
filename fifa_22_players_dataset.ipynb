{
 "cells": [
  {
   "cell_type": "code",
   "execution_count": null,
   "id": "b53844f4",
   "metadata": {},
   "outputs": [],
   "source": [
    "import pandas as pd\n",
    "from sqlalchemy import create_engine"
   ]
  },
  {
   "cell_type": "markdown",
   "id": "efec376c",
   "metadata": {},
   "source": [
    "## Extract CSVs into DataFrames"
   ]
  },
  {
   "cell_type": "code",
   "execution_count": null,
   "id": "5738f061",
   "metadata": {
    "scrolled": true
   },
   "outputs": [],
   "source": [
    "basic_info_csv_file = \"Resources/basic_info.csv\"\n",
    "basic_player_data_df = pd.read_csv(basic_info_csv_file)\n",
    "basic_player_data_df.head()"
   ]
  },
  {
   "cell_type": "code",
   "execution_count": null,
   "id": "4447c3af",
   "metadata": {
    "scrolled": true
   },
   "outputs": [],
   "source": [
    "detailed_info_csv_file = \"Resources/detailed_info.csv\"\n",
    "detailed_player_data_df = pd.read_csv(detailed_info_csv_file)\n",
    "detailed_player_data_df.head()"
   ]
  },
  {
   "cell_type": "markdown",
   "id": "fe81899c",
   "metadata": {},
   "source": [
    "## Clean DataFrame"
   ]
  },
  {
   "cell_type": "code",
   "execution_count": null,
   "id": "35d1ba48",
   "metadata": {},
   "outputs": [],
   "source": [
    "new_basic_player_data_df = basic_player_data_df[['ID', 'Name', 'Age', 'Overall', 'Club', 'Value']].copy()\n",
    "new_basic_player_data_df.head()\n",
    "fixed_basic_player_data_df=new_basic_player_data_df.dropna()\n",
    "fixed_basic_player_data_df"
   ]
  },
  {
   "cell_type": "code",
   "execution_count": null,
   "id": "1ecb2ae4",
   "metadata": {
    "scrolled": true
   },
   "outputs": [],
   "source": [
    "new_detailed_player_data_df = detailed_player_data_df[['ID', 'FK Accuracy', 'Ball Control', 'Shot Power', 'Preferred foot', 'Stamina', 'DOB']].copy()\n",
    "fixed_detailed_player_data_df=new_detailed_player_data_df.dropna()\n",
    "fixed_detailed_player_data_df"
   ]
  },
  {
   "cell_type": "markdown",
   "id": "0f9ff5f4",
   "metadata": {},
   "source": [
    "## Create database connection"
   ]
  },
  {
   "cell_type": "code",
   "execution_count": null,
   "id": "28525cb7",
   "metadata": {},
   "outputs": [],
   "source": [
    "protocol = 'postgresql'\n",
    "username = 'postgres'\n",
    "password = 'postgres'\n",
    "host = 'localhost'\n",
    "port = 5432\n",
    "database_name = 'FIFA_players'\n",
    "rds_connection_string = f'{protocol}://{username}:{password}@{host}:{port}/{database_name}'\n",
    "engine = create_engine(rds_connection_string)"
   ]
  },
  {
   "cell_type": "markdown",
   "id": "07c20c95",
   "metadata": {},
   "source": [
    "## Check for tables"
   ]
  },
  {
   "cell_type": "code",
   "execution_count": null,
   "id": "ba126b3b",
   "metadata": {},
   "outputs": [],
   "source": [
    "engine.table_names()"
   ]
  },
  {
   "cell_type": "markdown",
   "id": "5bb505da",
   "metadata": {},
   "source": [
    "## Load DataFrames into database"
   ]
  },
  {
   "cell_type": "code",
   "execution_count": null,
   "id": "07c07e5b",
   "metadata": {},
   "outputs": [],
   "source": [
    "fixed_basic_player_data_df.to_sql(name='Basic_info', con=engine, if_exists='append', index=False)"
   ]
  },
  {
   "cell_type": "code",
   "execution_count": null,
   "id": "5796c9ac",
   "metadata": {},
   "outputs": [],
   "source": [
    "fixed_detailed_player_data_df.to_sql(name='Detailed_info', con=engine, if_exists='append', index=False)"
   ]
  }
 ],
 "metadata": {
  "kernelspec": {
   "display_name": "Python [conda env:PythonData38] *",
   "language": "python",
   "name": "conda-env-PythonData38-py"
  },
  "language_info": {
   "codemirror_mode": {
    "name": "ipython",
    "version": 3
   },
   "file_extension": ".py",
   "mimetype": "text/x-python",
   "name": "python",
   "nbconvert_exporter": "python",
   "pygments_lexer": "ipython3",
   "version": "3.8.12"
  }
 },
 "nbformat": 4,
 "nbformat_minor": 5
}
